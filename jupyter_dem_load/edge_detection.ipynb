{
 "cells": [
  {
   "cell_type": "code",
   "execution_count": 1,
   "metadata": {},
   "outputs": [
    {
     "name": "stdout",
     "output_type": "stream",
     "text": [
      "오류 발생: name 'dem_file_path' is not defined\n"
     ]
    }
   ],
   "source": [
    "import rasterio\n",
    "from rasterio.transform import from_origin\n",
    "from rasterio.warp import transform\n",
    "\n",
    "# DEM 파일 경로\n",
    "dem_path = 'C:/Users/USER/Desktop/smart_city_seungmin/35816(김해)/35816020.img'\n",
    "\n",
    "try:\n",
    "    # DEM 파일 열기\n",
    "    with rasterio.open(dem_path) as src:\n",
    "        # DEM 데이터를 NumPy 배열로 읽어들임\n",
    "        dem_array = src.read(1)  # 1은 밴드 번호, 일반적으로 DEM 데이터는 하나의 밴드를 가짐\n",
    "\n",
    "        # 좌표 변환 정보 가져오기\n",
    "        transform = src.transform\n",
    "\n",
    "        # 각 픽셀의 공간 좌표 계산 및 출력\n",
    "        for row in range(src.height):\n",
    "            for col in range(src.width):\n",
    "                x, y = transform * (col + 0.5, row + 0.5)  # 중심 좌표 사용\n",
    "                z = dem_array[row, col]\n",
    "                print(f\"픽셀 위치: 행 {row}, 열 {col}, 위도: {y}, 경도: {x}, 고도: {z}\")\n",
    "\n",
    "except Exception as e:\n",
    "    print(f\"오류 발생: {e}\")"
   ]
  }
 ],
 "metadata": {
  "kernelspec": {
   "display_name": "Python 3",
   "language": "python",
   "name": "python3"
  },
  "language_info": {
   "codemirror_mode": {
    "name": "ipython",
    "version": 3
   },
   "file_extension": ".py",
   "mimetype": "text/x-python",
   "name": "python",
   "nbconvert_exporter": "python",
   "pygments_lexer": "ipython3",
   "version": "3.10.8"
  },
  "orig_nbformat": 4
 },
 "nbformat": 4,
 "nbformat_minor": 2
}
